{
 "cells": [
  {
   "cell_type": "code",
   "execution_count": 6,
   "metadata": {},
   "outputs": [
    {
     "name": "stdout",
     "output_type": "stream",
     "text": [
      "16\n",
      "1.feature e_ss(0.131019)\n",
      "2.feature Characteristics(0.114451)\n",
      "3.feature e_lfanew(0.082540)\n",
      "4.feature SizeOfInitializedData(0.068016)\n",
      "5.feature SizeOfHeapCommit(0.056118)\n",
      "6.feature Magic(0.053180)\n",
      "7.feature SizeOfUninitializedData(0.049062)\n",
      "8.feature PointerToSymbolTable(0.047830)\n",
      "9.feature e_cblp(0.037763)\n",
      "10.feature AddressOfEntryPoint(0.031394)\n",
      "11.feature TimeDateStamp(0.029847)\n",
      "12.feature e_crlc(0.028088)\n",
      "13.feature e_sp(0.026775)\n",
      "14.feature e_csum(0.025879)\n",
      "15.feature MajorImageVersion(0.022336)\n",
      "16.feature Machine(0.021813)\n"
     ]
    }
   ],
   "source": [
    "from sklearn import metrics\n",
    "from sklearn.metrics import classification_report, confusion_matrix\n",
    "from sklearn.ensemble import RandomForestClassifier as RFC\n",
    "from sklearn.decomposition import PCA\n",
    "from sklearn.ensemble import AdaBoostClassifier\n",
    "from sklearn.linear_model import LogisticRegression\n",
    "from sklearn.naive_bayes import GaussianNB\n",
    "from sklearn.feature_selection import SelectFromModel\n",
    "import pandas as pd\n",
    "from sklearn.metrics import accuracy_score\n",
    "from sklearn.preprocessing import StandardScaler\n",
    "from sklearn.tree import DecisionTreeClassifier\n",
    "from sklearn.model_selection import train_test_split\n",
    "from sklearn.svm import SVC\n",
    "from sklearn.model_selection import cross_val_predict\n",
    "from sklearn.neighbors import KNeighborsClassifier\n",
    "from sklearn.ensemble import VotingClassifier\n",
    "from sklearn.ensemble import ExtraTreesClassifier\n",
    "from sklearn.model_selection import GridSearchCV\n",
    "import pefile\n",
    "import os\n",
    "import numpy as np\n",
    "import pandas as pd\n",
    "import seaborn as sns\n",
    "import matplotlib.pyplot as plt\n",
    "from fastapi import Request, FastAPI\n",
    "from fastapi import File, UploadFile\n",
    "from starlette.responses import FileResponse\n",
    "from pydantic import BaseModel\n",
    "from fastapi.responses import HTMLResponse\n",
    "from fastapi.staticfiles import StaticFiles\n",
    "from fastapi.templating import Jinja2Templates\n",
    "import warnings\n",
    "warnings.filterwarnings('ignore')\n",
    "app = FastAPI()\n",
    "\n",
    "data = pd.read_csv('C:/Users/saisr/Downloads/dataset_malwares.csv')\n",
    "Data = data.dropna(how=\"any\", axis=0)\n",
    "Data.head()\n",
    "\n",
    "X = Data.drop(['Name', 'Malware', 'e_magic', 'e_cblp', 'e_cp', 'e_crlc', 'e_cparhdr', 'e_minalloc', 'e_maxalloc', 'e_ss', 'e_sp', 'e_csum', 'e_ip', 'e_cs', 'e_lfarlc',\n",
    "              'e_ovno', 'e_oemid', 'e_lfanew', 'e_oeminfo', 'SuspiciousImportFunctions', 'SuspiciousNameSection', 'DirectoryEntryImport', 'DirectoryEntryImportSize', 'DirectoryEntryExport'], axis=1)\n",
    "\n",
    "Y = Data['Malware']\n",
    "\n",
    "mod = ExtraTreesClassifier().fit(X,Y)\n",
    "model = SelectFromModel(mod,prefit=True)\n",
    "X_select = model.transform(X)\n",
    "nb_features = 25\n",
    "print(nb_features)\n",
    "\n",
    "indices = np.argsort(mod.feature_importances_)[::-1][:nb_features]\n",
    "for i in range(nb_features):\n",
    "    print(\"%d.feature %s(%f)\" % (i+1,data.columns[2+indices[i]],mod.feature_importances_[indices[i]]))\n",
    "\n"
   ]
  }
 ],
 "metadata": {
  "kernelspec": {
   "display_name": "Python 3",
   "language": "python",
   "name": "python3"
  },
  "language_info": {
   "codemirror_mode": {
    "name": "ipython",
    "version": 3
   },
   "file_extension": ".py",
   "mimetype": "text/x-python",
   "name": "python",
   "nbconvert_exporter": "python",
   "pygments_lexer": "ipython3",
   "version": "3.10.7"
  },
  "orig_nbformat": 4
 },
 "nbformat": 4,
 "nbformat_minor": 2
}
